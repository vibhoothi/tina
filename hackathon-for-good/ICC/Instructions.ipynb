{
 "cells": [
  {
   "cell_type": "markdown",
   "metadata": {},
   "source": [
    "# Instructions for ICC challenge"
   ]
  },
  {
   "cell_type": "markdown",
   "metadata": {},
   "source": [
    "Detailed challenge info [here](https://www.hackathonforgood.org/icc)."
   ]
  },
  {
   "cell_type": "markdown",
   "metadata": {},
   "source": [
    "## Outcome\n",
    "The envisaged outcome of the challenge is a proof of concept/working prototype of an application mining entities and relationships from txt / HTML / doc(x) documents and outputting them into a graphical database format – such as a .json file or a .csv file featuring a list of edges and nodes of the graph.\n",
    "The OTP fully recognizes that Relationship Extraction is a non-trivial problem. Therefore, the prototype is not expected to have a high degree of accuracy. What the OTP is mostly interested in are proposed approaches, workflows, methods and algorithms for the problem at hand."
   ]
  },
  {
   "cell_type": "markdown",
   "metadata": {},
   "source": [
    "## Datasets\n",
    "The datasets will include:\n",
    "-   \tNGO reports\n",
    "-   \tmedia articles\n",
    "-   \tsamples of witness statements\n",
    "\n",
    "The OTP will also provide corresponding sample results of the Entities and Relationship extraction process from the above-mentioned sources.\n",
    "\n",
    "You can find the datasets [here](https://drive.google.com/file/d/1Zer7KpNCsn26Kgyjr9dA16IfkGw6DshY/view?usp=sharing)"
   ]
  }
 ],
 "metadata": {
  "kernelspec": {
   "display_name": "Python [conda env:workshops]",
   "language": "python",
   "name": "conda-env-workshops-py"
  },
  "language_info": {
   "codemirror_mode": {
    "name": "ipython",
    "version": 3
   },
   "file_extension": ".py",
   "mimetype": "text/x-python",
   "name": "python",
   "nbconvert_exporter": "python",
   "pygments_lexer": "ipython3",
   "version": "3.6.7"
  }
 },
 "nbformat": 4,
 "nbformat_minor": 2
}
